{
 "cells": [
  {
   "cell_type": "markdown",
   "metadata": {},
   "source": [
    "# Setup\n",
    "Imports and helper functions to access API and draw widgets."
   ]
  },
  {
   "cell_type": "code",
   "execution_count": 3,
   "metadata": {},
   "outputs": [
    {
     "name": "stdout",
     "output_type": "stream",
     "text": [
      "Populating the interactive namespace from numpy and matplotlib\n"
     ]
    }
   ],
   "source": [
    "%pylab inline"
   ]
  },
  {
   "cell_type": "code",
   "execution_count": 10,
   "metadata": {},
   "outputs": [],
   "source": [
    "import requests\n",
    "import pandas as pd\n",
    "from StringIO import StringIO\n",
    "\n",
    "import ipywidgets as widgets\n",
    "from ipywidgets import interact\n",
    "\n",
    "base_url = 'http://grlc:8088/api/local/local'\n",
    "endpoint = 'http://virtuoso:8890/sparql'\n",
    "\n",
    "\n",
    "def callAPI(query, params={}):\n",
    "    headers = {\"Accept\": \"text/csv\"}\n",
    "    query_url = base_url + query\n",
    "    \n",
    "    resp = requests.get(query_url, headers=headers,  params=params)\n",
    "    # boldly assuming response was code 200\n",
    "    df = pd.read_csv(StringIO(resp.text))\n",
    "    return df\n",
    "\n",
    "def plotFeatures(graph):\n",
    "    '''Plot result of `countFeatures` for the given graph'''\n",
    "    plt.figure()\n",
    "    params = { \"graph\": graph, \"endpoint\": endpoint }\n",
    "    df = callAPI('/countFeatures', params=params)\n",
    "    df = df.set_index('feature_name')\n",
    "    df['n'].plot(kind='bar')\n",
    "    plt.title('Features for ' + graph)\n",
    "    plt.show();\n"
   ]
  },
  {
   "cell_type": "markdown",
   "metadata": {},
   "source": [
    "# Widgets"
   ]
  },
  {
   "cell_type": "code",
   "execution_count": 12,
   "metadata": {},
   "outputs": [
    {
     "data": {
      "application/vnd.jupyter.widget-view+json": {
       "model_id": "9bf0e5914cc241f894f523b5e8c20f4f",
       "version_major": 2,
       "version_minor": 0
      },
      "text/plain": [
       "aW50ZXJhY3RpdmUoY2hpbGRyZW49KERyb3Bkb3duKGRlc2NyaXB0aW9uPXUnZ3JhcGgnLCBvcHRpb25zPSgnaHR0cDovL3NvbGdlbm9taWNzLm5ldC9nZW5vbWUvU29sYW51bV9seWNvcGVyc2nigKY=\n"
      ]
     },
     "metadata": {},
     "output_type": "display_data"
    }
   ],
   "source": [
    "so_ly = 'http://solgenomics.net/genome/Solanum_lycopersicum'\n",
    "so_pe = 'http://solgenomics.net/genome/Solanum_pennellii'\n",
    "pe_ly = 'http://plants.ensembl.org/Solanum_lycopersicum'\n",
    "\n",
    "interact(plotFeatures, graph=[ so_ly, so_pe, pe_ly ]);"
   ]
  },
  {
   "cell_type": "code",
   "execution_count": null,
   "metadata": {},
   "outputs": [],
   "source": []
  }
 ],
 "metadata": {
  "kernelspec": {
   "display_name": "Python 2",
   "language": "python",
   "name": "python2"
  },
  "language_info": {
   "codemirror_mode": {
    "name": "ipython",
    "version": 2
   },
   "file_extension": ".py",
   "mimetype": "text/x-python",
   "name": "python",
   "nbconvert_exporter": "python",
   "pygments_lexer": "ipython2",
   "version": "2.7.15"
  }
 },
 "nbformat": 4,
 "nbformat_minor": 2
}
