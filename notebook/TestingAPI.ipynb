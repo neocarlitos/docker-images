{
 "cells": [
  {
   "cell_type": "code",
   "execution_count": 1,
   "metadata": {},
   "outputs": [
    {
     "name": "stdout",
     "output_type": "stream",
     "text": [
      "Populating the interactive namespace from numpy and matplotlib\n"
     ]
    }
   ],
   "source": [
    "%pylab inline"
   ]
  },
  {
   "cell_type": "code",
   "execution_count": 2,
   "metadata": {},
   "outputs": [],
   "source": [
    "import requests\n",
    "import pandas as pd\n",
    "from StringIO import StringIO"
   ]
  },
  {
   "cell_type": "code",
   "execution_count": 3,
   "metadata": {},
   "outputs": [],
   "source": [
    "base_url = 'http://grlc:8088/api/local/local'\n",
    "# base_url = 'http://localhost:8088/api/candYgene/queries'"
   ]
  },
  {
   "cell_type": "code",
   "execution_count": 4,
   "metadata": {},
   "outputs": [],
   "source": [
    "# This is where my SPARQL endpoint is running\n",
    "endpoint = \"http://virtuoso:8890/sparql\""
   ]
  },
  {
   "cell_type": "markdown",
   "metadata": {},
   "source": [
    "# Step by step"
   ]
  },
  {
   "cell_type": "markdown",
   "metadata": {},
   "source": [
    "First we need to build the full URL of the API endpoint we want to call"
   ]
  },
  {
   "cell_type": "code",
   "execution_count": 5,
   "metadata": {},
   "outputs": [
    {
     "name": "stdout",
     "output_type": "stream",
     "text": [
      "API endpoint URL: http://grlc:8088/api/local/local/countFeatures\n"
     ]
    }
   ],
   "source": [
    "query_url = base_url + '/countFeatures'\n",
    "print 'API endpoint URL: ' + query_url"
   ]
  },
  {
   "cell_type": "markdown",
   "metadata": {},
   "source": [
    "We set the heared to `text/csv` so the SPARQL endpoint will return data in csv format"
   ]
  },
  {
   "cell_type": "code",
   "execution_count": 6,
   "metadata": {},
   "outputs": [],
   "source": [
    "headers = {\"Accept\": \"text/csv\"}"
   ]
  },
  {
   "cell_type": "markdown",
   "metadata": {},
   "source": [
    "We setup any API parameters and send them with our request"
   ]
  },
  {
   "cell_type": "code",
   "execution_count": 7,
   "metadata": {},
   "outputs": [],
   "source": [
    "params = { \n",
    "    \"graph\": \"http://solgenomics.net/genome/Solanum_pennellii\",\n",
    "    \"endpoint\": endpoint\n",
    "}\n",
    "resp = requests.get(query_url, headers=headers,  params=params)"
   ]
  },
  {
   "cell_type": "markdown",
   "metadata": {},
   "source": [
    "Assuming that our request was successfull, the response should contain data in csv format"
   ]
  },
  {
   "cell_type": "code",
   "execution_count": 8,
   "metadata": {},
   "outputs": [
    {
     "name": "stdout",
     "output_type": "stream",
     "text": [
      "\"feature_name\",\"feature_id\",\"n\"\n",
      "\"exon\",\"[SO:0000147](http://purl.obolibrary.org/obo/SO_0000147)\",278874\n",
      "\"CDS\",\"[SO:0000316](http://purl.obolibrary.org/obo/SO_0000316)\",252950\n",
      "\"intron\",\"[SO:0000188](http://purl.obolibrary.org/obo/SO_0000188)\",204027\n",
      "\"protein_coding_primary_transcript\",\"[SO:0000120](http://purl.obolibrary.org/obo/SO_0000120)\",48923\n",
      "\"protein_coding_gene\",\"[SO:0001217](http://purl.obolibrary.org/obo/SO_0001217)\",44965\n",
      "\"genetic_marker\",\"[SO:0001645](http://purl.obolibrary.org/obo/SO_0001645)\",2225\n",
      "\"chromosome\",\"[SO:0000340](http://purl.obolibrary.org/obo/SO_0000340)\",13\n",
      "\"genome\",\"[SO:0001026](http://purl.obolibrary.org/obo/SO_0001026)\",1\n",
      "\n"
     ]
    }
   ],
   "source": [
    "print resp.text"
   ]
  },
  {
   "cell_type": "markdown",
   "metadata": {},
   "source": [
    "We can then use Pandas to convert csv data into a DataFrame"
   ]
  },
  {
   "cell_type": "code",
   "execution_count": 9,
   "metadata": {},
   "outputs": [
    {
     "data": {
      "text/html": [
       "<div>\n",
       "<style scoped>\n",
       "    .dataframe tbody tr th:only-of-type {\n",
       "        vertical-align: middle;\n",
       "    }\n",
       "\n",
       "    .dataframe tbody tr th {\n",
       "        vertical-align: top;\n",
       "    }\n",
       "\n",
       "    .dataframe thead th {\n",
       "        text-align: right;\n",
       "    }\n",
       "</style>\n",
       "<table border=\"1\" class=\"dataframe\">\n",
       "  <thead>\n",
       "    <tr style=\"text-align: right;\">\n",
       "      <th></th>\n",
       "      <th>feature_name</th>\n",
       "      <th>feature_id</th>\n",
       "      <th>n</th>\n",
       "    </tr>\n",
       "  </thead>\n",
       "  <tbody>\n",
       "    <tr>\n",
       "      <th>0</th>\n",
       "      <td>exon</td>\n",
       "      <td>[SO:0000147](http://purl.obolibrary.org/obo/SO...</td>\n",
       "      <td>278874</td>\n",
       "    </tr>\n",
       "    <tr>\n",
       "      <th>1</th>\n",
       "      <td>CDS</td>\n",
       "      <td>[SO:0000316](http://purl.obolibrary.org/obo/SO...</td>\n",
       "      <td>252950</td>\n",
       "    </tr>\n",
       "    <tr>\n",
       "      <th>2</th>\n",
       "      <td>intron</td>\n",
       "      <td>[SO:0000188](http://purl.obolibrary.org/obo/SO...</td>\n",
       "      <td>204027</td>\n",
       "    </tr>\n",
       "    <tr>\n",
       "      <th>3</th>\n",
       "      <td>protein_coding_primary_transcript</td>\n",
       "      <td>[SO:0000120](http://purl.obolibrary.org/obo/SO...</td>\n",
       "      <td>48923</td>\n",
       "    </tr>\n",
       "    <tr>\n",
       "      <th>4</th>\n",
       "      <td>protein_coding_gene</td>\n",
       "      <td>[SO:0001217](http://purl.obolibrary.org/obo/SO...</td>\n",
       "      <td>44965</td>\n",
       "    </tr>\n",
       "    <tr>\n",
       "      <th>5</th>\n",
       "      <td>genetic_marker</td>\n",
       "      <td>[SO:0001645](http://purl.obolibrary.org/obo/SO...</td>\n",
       "      <td>2225</td>\n",
       "    </tr>\n",
       "    <tr>\n",
       "      <th>6</th>\n",
       "      <td>chromosome</td>\n",
       "      <td>[SO:0000340](http://purl.obolibrary.org/obo/SO...</td>\n",
       "      <td>13</td>\n",
       "    </tr>\n",
       "    <tr>\n",
       "      <th>7</th>\n",
       "      <td>genome</td>\n",
       "      <td>[SO:0001026](http://purl.obolibrary.org/obo/SO...</td>\n",
       "      <td>1</td>\n",
       "    </tr>\n",
       "  </tbody>\n",
       "</table>\n",
       "</div>"
      ],
      "text/plain": [
       "                        feature_name  \\\n",
       "0                               exon   \n",
       "1                                CDS   \n",
       "2                             intron   \n",
       "3  protein_coding_primary_transcript   \n",
       "4                protein_coding_gene   \n",
       "5                     genetic_marker   \n",
       "6                         chromosome   \n",
       "7                             genome   \n",
       "\n",
       "                                          feature_id       n  \n",
       "0  [SO:0000147](http://purl.obolibrary.org/obo/SO...  278874  \n",
       "1  [SO:0000316](http://purl.obolibrary.org/obo/SO...  252950  \n",
       "2  [SO:0000188](http://purl.obolibrary.org/obo/SO...  204027  \n",
       "3  [SO:0000120](http://purl.obolibrary.org/obo/SO...   48923  \n",
       "4  [SO:0001217](http://purl.obolibrary.org/obo/SO...   44965  \n",
       "5  [SO:0001645](http://purl.obolibrary.org/obo/SO...    2225  \n",
       "6  [SO:0000340](http://purl.obolibrary.org/obo/SO...      13  \n",
       "7  [SO:0001026](http://purl.obolibrary.org/obo/SO...       1  "
      ]
     },
     "execution_count": 9,
     "metadata": {},
     "output_type": "execute_result"
    }
   ],
   "source": [
    "df = pd.read_csv(StringIO(resp.text))\n",
    "df"
   ]
  },
  {
   "cell_type": "markdown",
   "metadata": {},
   "source": [
    "We can then manipulate the DataFrame to visualize our results"
   ]
  },
  {
   "cell_type": "code",
   "execution_count": 10,
   "metadata": {},
   "outputs": [
    {
     "data": {
      "text/plain": [
       "<matplotlib.axes._subplots.AxesSubplot at 0x7f5f00a8cb90>"
      ]
     },
     "execution_count": 10,
     "metadata": {},
     "output_type": "execute_result"
    },
    {
     "data": {
      "image/png": "[encoded data removed]",
      "text/plain": [
       "<Figure size 432x288 with 1 Axes>"
      ]
     },
     "metadata": {
      "needs_background": "light"
     },
     "output_type": "display_data"
    }
   ],
   "source": [
    "df = df.set_index('feature_name')\n",
    "df['n'].plot(kind='bar')"
   ]
  },
  {
   "cell_type": "markdown",
   "metadata": {},
   "source": [
    "# Packaging things up\n",
    "We can package the API call in a simple function"
   ]
  },
  {
   "cell_type": "code",
   "execution_count": 11,
   "metadata": {},
   "outputs": [],
   "source": [
    "def callAPI(query, params={}):\n",
    "    headers = {\"Accept\": \"text/csv\"}\n",
    "    query_url = base_url + query\n",
    "    \n",
    "    resp = requests.get(query_url, headers=headers,  params=params)\n",
    "    # boldly assuming response was code 200\n",
    "    df = pd.read_csv(StringIO(resp.text))\n",
    "    return df"
   ]
  },
  {
   "cell_type": "markdown",
   "metadata": {},
   "source": [
    "# Ready to roll\n",
    "It now becomes really easy to perform all of the above in a few lines of Python"
   ]
  },
  {
   "cell_type": "code",
   "execution_count": 12,
   "metadata": {},
   "outputs": [
    {
     "data": {
      "image/png": "[encoded data removed]",
      "text/plain": [
       "<Figure size 432x288 with 1 Axes>"
      ]
     },
     "metadata": {
      "needs_background": "light"
     },
     "output_type": "display_data"
    }
   ],
   "source": [
    "params = { \"graph\": \"http://solgenomics.net/genome/Solanum_pennellii\", \"endpoint\": endpoint }\n",
    "df = callAPI('/countFeatures', params=params)\n",
    "df = df.set_index('feature_name')\n",
    "df['n'].plot(kind='bar');"
   ]
  },
  {
   "cell_type": "markdown",
   "metadata": {},
   "source": [
    "# Widgets"
   ]
  },
  {
   "cell_type": "code",
   "execution_count": 13,
   "metadata": {},
   "outputs": [],
   "source": [
    "import ipywidgets as widgets\n",
    "from ipywidgets import interact"
   ]
  },
  {
   "cell_type": "code",
   "execution_count": 14,
   "metadata": {},
   "outputs": [],
   "source": [
    "def plotFeatures(graph):\n",
    "    '''Plot result of `countFeatures` for the given graph'''\n",
    "    plt.figure()\n",
    "    params = { \"graph\": graph, \"endpoint\": endpoint }\n",
    "    df = callAPI('/countFeatures', params=params)\n",
    "    df = df.set_index('feature_name')\n",
    "    df['n'].plot(kind='bar')\n",
    "    plt.title('Features for ' + graph)\n",
    "    plt.show();"
   ]
  },
  {
   "cell_type": "code",
   "execution_count": 15,
   "metadata": {},
   "outputs": [
    {
     "data": {
      "application/vnd.jupyter.widget-view+json": {
       "model_id": "58d56c632f1f4948b696a745a18af515",
       "version_major": 2,
       "version_minor": 0
      },
      "text/plain": [
       "aW50ZXJhY3RpdmUoY2hpbGRyZW49KERyb3Bkb3duKGRlc2NyaXB0aW9uPXUnZ3JhcGgnLCBvcHRpb25zPSgnaHR0cDovL3NvbGdlbm9taWNzLm5ldC9nZW5vbWUvU29sYW51bV9seWNvcGVyc2nigKY=\n"
      ]
     },
     "metadata": {},
     "output_type": "display_data"
    }
   ],
   "source": [
    "so_ly = 'http://solgenomics.net/genome/Solanum_lycopersicum'\n",
    "so_pe = 'http://solgenomics.net/genome/Solanum_pennellii'\n",
    "pe_ly = 'http://plants.ensembl.org/Solanum_lycopersicum'\n",
    "\n",
    "interact(plotFeatures, graph=[ so_ly, so_pe, pe_ly ]);"
   ]
  }
 ],
 "metadata": {
  "kernelspec": {
   "display_name": "Python 2",
   "language": "python",
   "name": "python2"
  },
  "language_info": {
   "codemirror_mode": {
    "name": "ipython",
    "version": 2
   },
   "file_extension": ".py",
   "mimetype": "text/x-python",
   "name": "python",
   "nbconvert_exporter": "python",
   "pygments_lexer": "ipython2",
   "version": "2.7.15"
  }
 },
 "nbformat": 4,
 "nbformat_minor": 2
}
